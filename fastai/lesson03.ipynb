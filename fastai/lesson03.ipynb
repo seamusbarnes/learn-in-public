{
 "cells": [
  {
   "cell_type": "markdown",
   "metadata": {},
   "source": [
    "# Notes from *Lesson 3*"
   ]
  },
  {
   "cell_type": "markdown",
   "metadata": {},
   "source": [
    "Using different models with the timm library"
   ]
  },
  {
   "cell_type": "code",
   "execution_count": 59,
   "metadata": {},
   "outputs": [],
   "source": [
    "import os\n",
    "import pandas as pd\n",
    "import plotly.express as px\n",
    "from ipywidgets import interact\n",
    "from fastai.basics import *\n",
    "from functools import partial"
   ]
  },
  {
   "cell_type": "code",
   "execution_count": 10,
   "metadata": {},
   "outputs": [
    {
     "name": "stderr",
     "output_type": "stream",
     "text": [
      "fatal: destination path 'pytorch-image-models' already exists and is not an empty directory.\n"
     ]
    },
    {
     "data": {
      "text/plain": [
       "32768"
      ]
     },
     "execution_count": 10,
     "metadata": {},
     "output_type": "execute_result"
    }
   ],
   "source": [
    "url = 'https://github.com/rwightman/pytorch-image-models.git'\n",
    "command = f\"git clone --depth 1 {url}\"\n",
    "\n",
    "os.system(command)"
   ]
  },
  {
   "cell_type": "code",
   "execution_count": 16,
   "metadata": {},
   "outputs": [],
   "source": [
    "results_dir = 'pytorch-image-models/results'\n",
    "filename = 'results-imagenet.csv'\n",
    "results_path = os.path.join(results_dir,  filename)\n",
    "\n",
    "df_results = pd.read_csv(results_path)"
   ]
  },
  {
   "cell_type": "code",
   "execution_count": 37,
   "metadata": {},
   "outputs": [],
   "source": [
    "def get_data(part, col):\n",
    "    filename = f'benchmark-{part}-amp-nhwc-pt111-cu113-rtx3090.csv'\n",
    "    path = os.path.join(results_dir, filename)\n",
    "    regex_pattern = '^([a-z]+?(?:v2)?)(?:\\d|_|$)'\n",
    "    df = pd.read_csv(path).merge(df_results, on='model')\n",
    "    df['secs'] = 1./df[col]\n",
    "    df['family'] = df.model.str.extract(regex_pattern)\n",
    "    df = df[~df.model.str.endswith('gn')]\n",
    "\n",
    "    df.loc[df.model.str.contains('in22'),'family'] = df.loc[df.model.str.contains('in22'),'family'] + '_in22'\n",
    "    df.loc[df.model.str.contains('resnet.*d'),'family'] = df.loc[df.model.str.contains('resnet.*d'),'family'] + 'd'\n",
    "    \n",
    "    return df[df.family.str.contains('^re[sg]netd?|beit|convnext|levit|efficient|vit|vgg')]\n",
    "\n",
    "df = get_data('infer', 'infer_samples_per_sec')"
   ]
  },
  {
   "cell_type": "code",
   "execution_count": 39,
   "metadata": {},
   "outputs": [],
   "source": [
    "w, h = 1000, 800\n",
    "\n",
    "def show_all(df, title, size):\n",
    "    return px.scatter(df,\n",
    "                      width=w,\n",
    "                      height=h,\n",
    "                      size=df[size]**2,\n",
    "                      title=title,\n",
    "                      x='secs',\n",
    "                      y='top1',\n",
    "                      log_x=True,\n",
    "                      color='family',\n",
    "                      hover_name='model',\n",
    "                      hover_data=[size])\n",
    "# show_all(df, 'Inference', 'infer_img_size')"
   ]
  },
  {
   "cell_type": "markdown",
   "metadata": {},
   "source": [
    "## How does a neural network really work (from Jeremy's kaggle notebook)"
   ]
  },
  {
   "cell_type": "code",
   "execution_count": 57,
   "metadata": {},
   "outputs": [],
   "source": [
    "plt.rc('figure', dpi=90)\n",
    "\n",
    "def plot_function(f, title=None, x_min=None, x_max=None, color='r', ylim=None):\n",
    "    x_min = x_min if x_min else -5.0\n",
    "    x_max = x_max if x_max else 5.0\n",
    "    print(x_min, x_max)\n",
    "\n",
    "    x = torch.linspace(x_min, x_max, 100)[:, None]\n",
    "\n",
    "    plt.figure(figsize=(5,2))\n",
    "    plt.plot(x, f(x), color)\n",
    "    if ylim: plt.ylim(ylim)\n",
    "    if title is not None: plt.title(title)\n",
    "    plt.grid()"
   ]
  },
  {
   "cell_type": "code",
   "execution_count": 58,
   "metadata": {},
   "outputs": [
    {
     "name": "stdout",
     "output_type": "stream",
     "text": [
      "-5.0 5.0\n"
     ]
    },
    {
     "data": {
      "image/png": "[encoded data removed]",
      "text/plain": [
       "<Figure size 450x180 with 1 Axes>"
      ]
     },
     "metadata": {},
     "output_type": "display_data"
    }
   ],
   "source": [
    "def f(x):\n",
    "    return 3*x**2 + 2*x + 1\n",
    "\n",
    "plot_function(f, 'example title')"
   ]
  },
  {
   "cell_type": "code",
   "execution_count": 65,
   "metadata": {},
   "outputs": [
    {
     "name": "stdout",
     "output_type": "stream",
     "text": [
      "10.0\n"
     ]
    }
   ],
   "source": [
    "def quad(a, b, c, x):\n",
    "    return a*x**2 + b*x + c\n",
    "\n",
    "print(quad(2,3,1,1.5))\n",
    "\n",
    "def mk_quad(a, b, c):\n",
    "    return partial(quad, a, b, c)"
   ]
  },
  {
   "cell_type": "code",
   "execution_count": 66,
   "metadata": {},
   "outputs": [
    {
     "name": "stdout",
     "output_type": "stream",
     "text": [
      "-5.0 5.0\n"
     ]
    },
    {
     "data": {
      "image/png": "[encoded data removed]",
      "text/plain": [
       "<Figure size 450x180 with 1 Axes>"
      ]
     },
     "metadata": {},
     "output_type": "display_data"
    }
   ],
   "source": [
    "f2 = mk_quad(3,2,1)\n",
    "plot_function(f2)"
   ]
  },
  {
   "cell_type": "code",
   "execution_count": 67,
   "metadata": {},
   "outputs": [],
   "source": [
    "def noise(x, scale):\n",
    "    return np.random.normal(scale=scale, size=x.shape)\n",
    "\n",
    "def add_noise(x, mult, add):\n",
    "    return x * (1+noise(x, mult)) + noise(x, add)"
   ]
  },
  {
   "cell_type": "code",
   "execution_count": 68,
   "metadata": {},
   "outputs": [],
   "source": [
    "x = torch.linspace(-2, 2, steps=20)[:, None]\n",
    "y = add_noise(f(x), 0.15, 0.15)"
   ]
  }
 ],
 "metadata": {
  "kernelspec": {
   "display_name": "Python 3 (ipykernel)",
   "language": "python",
   "name": "python3"
  },
  "language_info": {
   "codemirror_mode": {
    "name": "ipython",
    "version": 3
   },
   "file_extension": ".py",
   "mimetype": "text/x-python",
   "name": "python",
   "nbconvert_exporter": "python",
   "pygments_lexer": "ipython3",
   "version": "3.10.14"
  }
 },
 "nbformat": 4,
 "nbformat_minor": 2
}
