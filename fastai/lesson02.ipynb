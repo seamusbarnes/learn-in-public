{
 "cells": [
  {
   "cell_type": "markdown",
   "metadata": {},
   "source": [
    "# Notes from *Lesson 2*\n",
    "\n",
    "Setting up a gradio huggingface space in separate repository:[https://huggingface.co/spaces/levjam/sushi](https://huggingface.co/spaces/levjam/sushi)"
   ]
  },
  {
   "cell_type": "markdown",
   "metadata": {},
   "source": []
  }
 ],
 "metadata": {
  "language_info": {
   "name": "python"
  }
 },
 "nbformat": 4,
 "nbformat_minor": 2
}
